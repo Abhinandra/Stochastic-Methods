{
  "nbformat": 4,
  "nbformat_minor": 0,
  "metadata": {
    "colab": {
      "name": "Conditional Probability and Independence.ipynb",
      "provenance": []
    },
    "kernelspec": {
      "name": "python3",
      "display_name": "Python 3"
    },
    "language_info": {
      "name": "python"
    }
  },
  "cells": [
    {
      "cell_type": "code",
      "execution_count": 1,
      "metadata": {
        "colab": {
          "base_uri": "https://localhost:8080/"
        },
        "id": "n9IVqqZYrX8m",
        "outputId": "42af568b-2c6b-4996-be3e-e45ff61ee738"
      },
      "outputs": [
        {
          "output_type": "execute_result",
          "data": {
            "text/plain": [
              "[(1, 'a'), (1, 'b'), (1, 'c'), (2, 'a'), (2, 'b'), (2, 'c')]"
            ]
          },
          "metadata": {},
          "execution_count": 1
        }
      ],
      "source": [
        "from itertools import product # product helps with the cartesian product which in turn generates the sample space\n",
        "\n",
        "list(product([1, 2], ['a', 'b', 'c']))"
      ]
    },
    {
      "cell_type": "markdown",
      "source": [
        "# **Simulating a Coin Toss**\n",
        "\n",
        "In this example, we are going to toss a coin four times and take out subset from the sample namely trials where we got a tail on the first trial and trials where we got two tails (in any order) and calculate their probability, their conditional probabilities and if the two events are independent or not?"
      ],
      "metadata": {
        "id": "AtHYdJjq3iDS"
      }
    },
    {
      "cell_type": "code",
      "source": [
        "n = 4 # number of trials\n",
        "omega = set(product(['H', 'T'], repeat=n)) # sample space i.e. all possible outcomes. product(arr, repeat=4) means the same as product(arr, arr, arr, arr).\n",
        "print(omega) # printing the sample space"
      ],
      "metadata": {
        "colab": {
          "base_uri": "https://localhost:8080/"
        },
        "id": "yJUKFDK83V4u",
        "outputId": "f181b744-4f7e-44aa-fcf6-2e5d5b969497"
      },
      "execution_count": 2,
      "outputs": [
        {
          "output_type": "stream",
          "name": "stdout",
          "text": [
            "{('H', 'H', 'T', 'T'), ('H', 'T', 'H', 'H'), ('H', 'T', 'H', 'T'), ('T', 'H', 'T', 'H'), ('T', 'T', 'H', 'H'), ('H', 'H', 'H', 'T'), ('H', 'T', 'T', 'T'), ('T', 'H', 'H', 'T'), ('T', 'T', 'H', 'T'), ('T', 'T', 'T', 'T'), ('H', 'H', 'H', 'H'), ('H', 'T', 'T', 'H'), ('T', 'H', 'T', 'T'), ('H', 'H', 'T', 'H'), ('T', 'H', 'H', 'H'), ('T', 'T', 'T', 'H')}\n"
          ]
        }
      ]
    },
    {
      "cell_type": "code",
      "source": [
        "len(omega) # Number of Possible Events"
      ],
      "metadata": {
        "colab": {
          "base_uri": "https://localhost:8080/"
        },
        "id": "hQ1kV6o2T-Xn",
        "outputId": "0240396f-b98f-4a94-8d80-81c67b1f5ce1"
      },
      "execution_count": 3,
      "outputs": [
        {
          "output_type": "execute_result",
          "data": {
            "text/plain": [
              "16"
            ]
          },
          "metadata": {},
          "execution_count": 3
        }
      ]
    },
    {
      "cell_type": "code",
      "source": [
        "A = {ele for ele in omega if ele[0] == 'T'} # A denotes the event where a tail occurs on the first trial\n",
        "print(A)"
      ],
      "metadata": {
        "colab": {
          "base_uri": "https://localhost:8080/"
        },
        "id": "6EBOSZKEUKTs",
        "outputId": "ec92d079-0b05-45da-f323-8f6c70f9ae61"
      },
      "execution_count": 4,
      "outputs": [
        {
          "output_type": "stream",
          "name": "stdout",
          "text": [
            "{('T', 'H', 'T', 'H'), ('T', 'T', 'H', 'H'), ('T', 'H', 'T', 'T'), ('T', 'T', 'T', 'T'), ('T', 'H', 'H', 'T'), ('T', 'T', 'H', 'T'), ('T', 'H', 'H', 'H'), ('T', 'T', 'T', 'H')}\n"
          ]
        }
      ]
    },
    {
      "cell_type": "code",
      "source": [
        "len(A)"
      ],
      "metadata": {
        "colab": {
          "base_uri": "https://localhost:8080/"
        },
        "id": "9QPu2cvXdoSS",
        "outputId": "d09c74cb-233f-4440-8850-92531fb29cea"
      },
      "execution_count": 5,
      "outputs": [
        {
          "output_type": "execute_result",
          "data": {
            "text/plain": [
              "8"
            ]
          },
          "metadata": {},
          "execution_count": 5
        }
      ]
    },
    {
      "cell_type": "code",
      "source": [
        "B = {ele for ele in omega if ele.count('T') == 2} # B denotes the event where 2 tails occurs on any of the 4 trials\n",
        "print(B)"
      ],
      "metadata": {
        "colab": {
          "base_uri": "https://localhost:8080/"
        },
        "id": "e6PHGHhwWnNj",
        "outputId": "1ac9cecd-761e-4c68-f0dc-2f7d319aa46e"
      },
      "execution_count": 6,
      "outputs": [
        {
          "output_type": "stream",
          "name": "stdout",
          "text": [
            "{('H', 'H', 'T', 'T'), ('H', 'T', 'H', 'T'), ('T', 'T', 'H', 'H'), ('T', 'H', 'T', 'H'), ('T', 'H', 'H', 'T'), ('H', 'T', 'T', 'H')}\n"
          ]
        }
      ]
    },
    {
      "cell_type": "code",
      "source": [
        "len(B)"
      ],
      "metadata": {
        "colab": {
          "base_uri": "https://localhost:8080/"
        },
        "id": "79pstSwfdufe",
        "outputId": "d18bc2d1-2a83-4918-fa26-54c4d28e300e"
      },
      "execution_count": 7,
      "outputs": [
        {
          "output_type": "execute_result",
          "data": {
            "text/plain": [
              "6"
            ]
          },
          "metadata": {},
          "execution_count": 7
        }
      ]
    },
    {
      "cell_type": "code",
      "source": [
        "type(A), type(B)"
      ],
      "metadata": {
        "colab": {
          "base_uri": "https://localhost:8080/"
        },
        "id": "26bTZtjycWI0",
        "outputId": "b9dc6313-cd26-414b-acbb-0664b6c9ff98"
      },
      "execution_count": 8,
      "outputs": [
        {
          "output_type": "execute_result",
          "data": {
            "text/plain": [
              "(set, set)"
            ]
          },
          "metadata": {},
          "execution_count": 8
        }
      ]
    },
    {
      "cell_type": "markdown",
      "source": [
        "## **Creating a function to calculate Probability**\n",
        "\n",
        "The probability of event A is defined as\n",
        "\n",
        "$ P(A) = \\frac{A}{\\Omega}$\n",
        "\n",
        "where A = set of possible outcomes (event)\n",
        "\n",
        "and Ω = Sample Space = Set of all possible events of an experiment"
      ],
      "metadata": {
        "id": "bOxV_gtvXxnh"
      }
    },
    {
      "cell_type": "code",
      "source": [
        "def probability(X):\n",
        "  return len(X)/len(omega)"
      ],
      "metadata": {
        "id": "k7LY5pCsW0Ro"
      },
      "execution_count": 9,
      "outputs": []
    },
    {
      "cell_type": "code",
      "source": [
        "probability(A) # finding the probability of event A"
      ],
      "metadata": {
        "colab": {
          "base_uri": "https://localhost:8080/"
        },
        "id": "shI9aY-Edd5u",
        "outputId": "8c8df0fc-4e4b-4679-a9ed-676a147357ec"
      },
      "execution_count": 10,
      "outputs": [
        {
          "output_type": "execute_result",
          "data": {
            "text/plain": [
              "0.5"
            ]
          },
          "metadata": {},
          "execution_count": 10
        }
      ]
    },
    {
      "cell_type": "code",
      "source": [
        "probability(B) # finding the probability of event B"
      ],
      "metadata": {
        "colab": {
          "base_uri": "https://localhost:8080/"
        },
        "id": "9X-hBduAdq_4",
        "outputId": "f0c5e24a-3b14-40d5-91b9-551b1ee21229"
      },
      "execution_count": 11,
      "outputs": [
        {
          "output_type": "execute_result",
          "data": {
            "text/plain": [
              "0.375"
            ]
          },
          "metadata": {},
          "execution_count": 11
        }
      ]
    },
    {
      "cell_type": "markdown",
      "source": [
        "## **Creating a function to calculate Conditional Probability**\n",
        "\n",
        "The conditional probability of event A given event B is expressed as $P(A/B)$ which represents the likelihood of A given that B occured\n",
        "\n",
        "$ P(A/B) = \\frac{P(A∪B)}{P(B)}$"
      ],
      "metadata": {
        "id": "i76KUgVaa3da"
      }
    },
    {
      "cell_type": "code",
      "source": [
        "def conditional_probability(X, Y):\n",
        "  return len(X.intersection(Y))/len(Y) # X1.intersection(X2) helps to find the common elements in two sets"
      ],
      "metadata": {
        "id": "hkJMzxpAb9k9"
      },
      "execution_count": 12,
      "outputs": []
    },
    {
      "cell_type": "code",
      "source": [
        "A, B"
      ],
      "metadata": {
        "colab": {
          "base_uri": "https://localhost:8080/"
        },
        "id": "fCiFwu-6eIAn",
        "outputId": "68d148b9-81e2-4807-f83b-15832c0c2c44"
      },
      "execution_count": 13,
      "outputs": [
        {
          "output_type": "execute_result",
          "data": {
            "text/plain": [
              "({('T', 'H', 'H', 'H'),\n",
              "  ('T', 'H', 'H', 'T'),\n",
              "  ('T', 'H', 'T', 'H'),\n",
              "  ('T', 'H', 'T', 'T'),\n",
              "  ('T', 'T', 'H', 'H'),\n",
              "  ('T', 'T', 'H', 'T'),\n",
              "  ('T', 'T', 'T', 'H'),\n",
              "  ('T', 'T', 'T', 'T')},\n",
              " {('H', 'H', 'T', 'T'),\n",
              "  ('H', 'T', 'H', 'T'),\n",
              "  ('H', 'T', 'T', 'H'),\n",
              "  ('T', 'H', 'H', 'T'),\n",
              "  ('T', 'H', 'T', 'H'),\n",
              "  ('T', 'T', 'H', 'H')})"
            ]
          },
          "metadata": {},
          "execution_count": 13
        }
      ]
    },
    {
      "cell_type": "code",
      "source": [
        "A&B # A interesection B"
      ],
      "metadata": {
        "colab": {
          "base_uri": "https://localhost:8080/"
        },
        "id": "Hlm_gQokeK3q",
        "outputId": "f3c37c31-41e2-482d-c9b0-09870b646e2a"
      },
      "execution_count": 14,
      "outputs": [
        {
          "output_type": "execute_result",
          "data": {
            "text/plain": [
              "{('T', 'H', 'H', 'T'), ('T', 'H', 'T', 'H'), ('T', 'T', 'H', 'H')}"
            ]
          },
          "metadata": {},
          "execution_count": 14
        }
      ]
    },
    {
      "cell_type": "code",
      "source": [
        "conditional_probability(A, B) # finding conditional probability of A given B occured"
      ],
      "metadata": {
        "colab": {
          "base_uri": "https://localhost:8080/"
        },
        "id": "-M-qlFzsdcwE",
        "outputId": "737dcd64-16f0-45db-d643-6015ddbdfec9"
      },
      "execution_count": 15,
      "outputs": [
        {
          "output_type": "execute_result",
          "data": {
            "text/plain": [
              "0.5"
            ]
          },
          "metadata": {},
          "execution_count": 15
        }
      ]
    },
    {
      "cell_type": "markdown",
      "source": [
        "## **Creating a function to calculate Independence of Events**\n",
        "\n",
        "Two events $A$ and $B$ are said to be independent, if\n",
        "\n",
        "$ P(A ∩ B) = P(A) * P(B)$\n",
        "\n",
        "In other words, two events A and B are independent, if the occurence of an event (example A (or B)) tells us nothing about the occurence of the other event (example B (or A)) i.e.\n",
        "\n",
        "If \n",
        "\n",
        "$ P(A/B) = P(A) $\n",
        " or\n",
        "$ P(B/A) = P(B) $, then event $A$ and $B$ are independent.\n"
      ],
      "metadata": {
        "id": "X-qarlzMebEA"
      }
    },
    {
      "cell_type": "code",
      "source": [
        "def are_independent(A, B):\n",
        "  if probability(A.intersection(B)) == probability(A) * probability(B): # implementing P(A ∩ B) = P(A) * P(B)\n",
        "    print(f\"Yes they are independent. Value of P(A ∩ B): {probability(A.intersection(B))}\")\n",
        "  else:\n",
        "    print(\"They are not independent.\")"
      ],
      "metadata": {
        "id": "ZdDJdhoGeEX_"
      },
      "execution_count": 17,
      "outputs": []
    },
    {
      "cell_type": "code",
      "source": [
        "are_independent(A, B) # to check if events A and B are independent or not"
      ],
      "metadata": {
        "colab": {
          "base_uri": "https://localhost:8080/"
        },
        "id": "2QE9m4avp1j4",
        "outputId": "7ae100fd-7ee1-4036-a356-831a303b460f"
      },
      "execution_count": 18,
      "outputs": [
        {
          "output_type": "stream",
          "name": "stdout",
          "text": [
            "Yes they are independent. Value of P(A ∩ B): 0.1875\n"
          ]
        }
      ]
    },
    {
      "cell_type": "code",
      "source": [
        "probability(A), probability(B)"
      ],
      "metadata": {
        "colab": {
          "base_uri": "https://localhost:8080/"
        },
        "id": "iIr7TtuUp9cM",
        "outputId": "3c885e24-cffb-42f9-ef9e-985538cdad3f"
      },
      "execution_count": 19,
      "outputs": [
        {
          "output_type": "execute_result",
          "data": {
            "text/plain": [
              "(0.5, 0.375)"
            ]
          },
          "metadata": {},
          "execution_count": 19
        }
      ]
    },
    {
      "cell_type": "code",
      "source": [
        ""
      ],
      "metadata": {
        "id": "2P_KXBIkqGaC"
      },
      "execution_count": null,
      "outputs": []
    }
  ]
}